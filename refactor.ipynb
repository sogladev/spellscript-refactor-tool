{
 "cells": [
  {
   "cell_type": "markdown",
   "metadata": {},
   "source": [
    "Missing apply to all scripts\n",
    "replace new .* loader with name"
   ]
  },
  {
   "cell_type": "code",
   "execution_count": 1,
   "metadata": {},
   "outputs": [],
   "source": [
    "FILENAME = \"/home/jelle/wd/wow/azerothcore-wotlk/src/server/scripts/Northrend/Ulduar/Ulduar/boss_yoggsaron.cpp\"\n",
    "OFFSET = 2230\n",
    "with open(FILENAME, 'r') as file:\n",
    "    input = file.read();"
   ]
  },
  {
   "cell_type": "code",
   "execution_count": 2,
   "metadata": {},
   "outputs": [],
   "source": [
    "import re\n",
    "from enum import Enum\n",
    "\n",
    "class Color(Enum):\n",
    "    RED = 1\n",
    "    GREEN = 2\n",
    "    BLUE = 3\n",
    "    YELLOW = 4\n",
    "\n",
    "def colored(text, color, end='\\n') -> str:\n",
    "    colors = {Color.RED: '\\x1b[31m', Color.GREEN: '\\x1b[32m', Color.YELLOW: '\\x1b[33m', Color.BLUE: '\\x1b[34m'}\n",
    "    reset = '\\x1b[0m'\n",
    "    return colors.get(color, '') + text + reset + end\n"
   ]
  },
  {
   "cell_type": "code",
   "execution_count": 3,
   "metadata": {},
   "outputs": [],
   "source": [
    "lines = input.split('\\n')"
   ]
  },
  {
   "cell_type": "code",
   "execution_count": 4,
   "metadata": {},
   "outputs": [
    {
     "name": "stdout",
     "output_type": "stream",
     "text": [
      "\u001b[31mclass spell_yogg_saron_brain_link : public SpellScriptLoader\u001b[0m\n",
      "\n"
     ]
    }
   ],
   "source": [
    "def find_start_index(lines_to_search):\n",
    "    for i, line in enumerate(lines_to_search):\n",
    "        if (re.match(\"class .* : public SpellScriptLoader\", line)):\n",
    "            print(colored(f\"{line}\",Color.RED))\n",
    "            return i\n",
    "\n",
    "start_index = find_start_index(lines)"
   ]
  },
  {
   "cell_type": "code",
   "execution_count": 5,
   "metadata": {},
   "outputs": [
    {
     "name": "stdout",
     "output_type": "stream",
     "text": [
      "\u001b[32mspell_yogg_saron_brain_link\u001b[0m\n",
      "\n"
     ]
    }
   ],
   "source": [
    "def find_name_of_script(lines_to_search):\n",
    "    for i, line in enumerate(lines_to_search):\n",
    "        if '\"' in line:\n",
    "            name = re.findall(r'\"(.*?)\"', line)[0]\n",
    "            print(colored(name, Color.GREEN))\n",
    "            return name\n",
    "script_name = find_name_of_script(lines[start_index:])"
   ]
  },
  {
   "cell_type": "code",
   "execution_count": 6,
   "metadata": {},
   "outputs": [
    {
     "name": "stdout",
     "output_type": "stream",
     "text": [
      "\u001b[32mSpellScript\u001b[0m\n",
      "\n"
     ]
    }
   ],
   "source": [
    "def is_aura_script(lines_to_search):\n",
    "    for line in lines_to_search:\n",
    "        if \"AuraScript\" in line:\n",
    "            print(colored(\"AuraScript\", Color.GREEN))\n",
    "            return False\n",
    "        if \"SpellScript\" in line:\n",
    "            print(colored(\"SpellScript\", Color.GREEN))\n",
    "            return True\n",
    "\n",
    "isSpellScript = not is_aura_script(lines[start_index+2:])"
   ]
  },
  {
   "cell_type": "code",
   "execution_count": 7,
   "metadata": {},
   "outputs": [],
   "source": [
    "def find_register_start_end_index(lines_to_search):\n",
    "    start = None\n",
    "    for i, line in enumerate(lines_to_search):\n",
    "        if 'void Register' in line:\n",
    "           start = i\n",
    "        if start:\n",
    "            if line.strip() == '}':\n",
    "                return start, i\n",
    "\n",
    "def find_register_statements(lines, start_index):\n",
    "    register_index_start, register_index_bracket = find_register_start_end_index(lines[start_index:])\n",
    "    register_index_start += start_index\n",
    "    register_index_bracket += start_index\n",
    "    register_statements = lines[register_index_start+2:register_index_bracket]\n",
    "    register_statements_format = []\n",
    "    for c in register_statements:\n",
    "        c = 8*' ' + c.lstrip()\n",
    "        c = c.replace('_AuraScript','_aura')\n",
    "        c = c.replace('_SpellScript','')\n",
    "        register_statements_format.append(c)\n",
    "    return register_statements_format"
   ]
  },
  {
   "cell_type": "code",
   "execution_count": 8,
   "metadata": {},
   "outputs": [],
   "source": [
    "def find_content_start_end_index(lines_to_search):\n",
    "    start = None\n",
    "    for i, line in enumerate(lines_to_search):\n",
    "        if \"Prepare\" in line:\n",
    "            start = i\n",
    "        if start:\n",
    "            if 'void Register' in line:\n",
    "                return start, i\n",
    "\n",
    "def find_content_statements(lines, start_index):\n",
    "    content_index_start, content_index_end = find_content_start_end_index(lines[start_index:])\n",
    "    content_index_start += start_index\n",
    "    content_index_end += start_index\n",
    "\n",
    "    content_statements = lines[content_index_start+1:content_index_end]\n",
    "    content_statements_format = []\n",
    "    for c in content_statements:\n",
    "        if '        ' in c:\n",
    "            c = '    '.join(c.split('    ')[1:])\n",
    "\n",
    "        c = c.replace('_AuraScript','_aura')\n",
    "        c = c.replace('_SpellScript','')\n",
    "        content_statements_format.append(c)\n",
    "    return content_statements_format"
   ]
  },
  {
   "cell_type": "code",
   "execution_count": 9,
   "metadata": {},
   "outputs": [
    {
     "name": "stdout",
     "output_type": "stream",
     "text": [
      "\u001b[31mclass spell_yogg_saron_brain_link : public SpellScriptLoader\u001b[0m\n",
      "\n",
      "2257 class spell_yogg_saron_brain_link : public SpellScriptLoader\n",
      "2356 };\n"
     ]
    }
   ],
   "source": [
    "def find_last_index(lines_to_search):\n",
    "    for i, line in enumerate(lines_to_search):\n",
    "        if line == ('};'):\n",
    "            return i\n",
    "last_index = find_last_index(lines[start_index:])\n",
    "last_index = last_index + start_index\n",
    "start_index = find_start_index(lines)\n",
    "print(start_index, lines[start_index])\n",
    "print(last_index, lines[last_index])"
   ]
  },
  {
   "cell_type": "markdown",
   "metadata": {},
   "source": [
    "# format block here"
   ]
  },
  {
   "cell_type": "code",
   "execution_count": 10,
   "metadata": {},
   "outputs": [],
   "source": [
    "def convert_function_block(skip=0):\n",
    "    start_index = find_start_index(lines[skip:])\n",
    "    type: str = 'SpellScript' if isSpellScript else 'AuraScript'\n",
    "    prepare: str = 'Spell' if isSpellScript else 'Aura'\n",
    "    script_name = find_name_of_script(lines[skip:]) + ('' if isSpellScript else '_aura')\n",
    "    register_statements = find_register_statements(lines[skip:], start_index)\n",
    "    content_statements = find_content_statements(lines[skip:], start_index)\n",
    "    last_index = find_last_index(lines[(skip+start_index):])\n",
    "    last_index = last_index + start_index\n",
    "    register_spellstring = f\"RegisterSpellScript({script_name});\"\n",
    "    content: str = '\\n'.join(content_statements)\n",
    "    register_formatted: str = '\\n'.join(register_statements)\n",
    "    out_formatted = \\\n",
    "\"\"\"class \"\"\"+script_name+\"\"\" : public \"\"\"+type+\\\n",
    "\"\"\"\n",
    "{\n",
    "    Prepare\"\"\"+prepare+\"\"\"Script(\"\"\"+script_name+\"\"\");\\n\"\"\"\\\n",
    "    +content+\\\n",
    "\"\"\"\n",
    "    void Register() override\n",
    "    {\\n\"\"\"+\\\n",
    "register_formatted+\\\n",
    "\"\"\"\n",
    "    }\n",
    "};\\n\"\"\"\n",
    "    register_spellstring = f\"RegisterSpellScript({script_name});\"\n",
    "    return out_formatted, register_spellstring, last_index"
   ]
  },
  {
   "cell_type": "code",
   "execution_count": 11,
   "metadata": {},
   "outputs": [
    {
     "name": "stdout",
     "output_type": "stream",
     "text": [
      "\u001b[31mclass spell_yogg_saron_brain_link : public SpellScriptLoader\u001b[0m\n",
      "\n",
      "\u001b[32mspell_yogg_saron_brain_link\u001b[0m\n",
      "\n",
      "\u001b[31mclass spell_yogg_saron_shadow_beacon : public SpellScriptLoader\u001b[0m\n",
      "\n",
      "\u001b[32mspell_yogg_saron_shadow_beacon\u001b[0m\n",
      "\n",
      "\u001b[31mclass spell_yogg_saron_destabilization_matrix : public SpellScriptLoader\u001b[0m\n",
      "\n",
      "\u001b[32mspell_yogg_saron_destabilization_matrix\u001b[0m\n",
      "\n",
      "\u001b[31mclass spell_yogg_saron_titanic_storm : public SpellScriptLoader\u001b[0m\n",
      "\n",
      "\u001b[32mspell_yogg_saron_titanic_storm\u001b[0m\n",
      "\n",
      "\u001b[31mclass spell_yogg_saron_lunatic_gaze : public SpellScriptLoader\u001b[0m\n",
      "\n",
      "\u001b[32mspell_yogg_saron_lunatic_gaze\u001b[0m\n",
      "\n",
      "\u001b[31mclass spell_yogg_saron_protective_gaze : public SpellScriptLoader\u001b[0m\n",
      "\n",
      "\u001b[32mspell_yogg_saron_protective_gaze\u001b[0m\n",
      "\n",
      "\u001b[31mclass spell_yogg_saron_empowered : public SpellScriptLoader\u001b[0m\n",
      "\n",
      "\u001b[32mspell_yogg_saron_empowered\u001b[0m\n",
      "\n",
      "\u001b[31mclass spell_yogg_saron_insane_periodic_trigger : public SpellScriptLoader\u001b[0m\n",
      "\n",
      "\u001b[32mspell_yogg_saron_insane_periodic_trigger\u001b[0m\n",
      "\n",
      "\u001b[31mclass spell_yogg_saron_insane : public SpellScriptLoader\u001b[0m\n",
      "\n",
      "\u001b[32mspell_yogg_saron_insane\u001b[0m\n",
      "\n",
      "\u001b[31mclass spell_yogg_saron_sanity_well : public SpellScriptLoader\u001b[0m\n",
      "\n",
      "\u001b[32mspell_yogg_saron_sanity_well\u001b[0m\n",
      "\n",
      "\u001b[31mclass spell_yogg_saron_sanity_reduce : public SpellScriptLoader\u001b[0m\n",
      "\n",
      "\u001b[32mspell_yogg_saron_sanity_reduce\u001b[0m\n",
      "\n",
      "\u001b[31mclass spell_yogg_saron_empowering_shadows : public SpellScriptLoader\u001b[0m\n",
      "\n",
      "\u001b[32mspell_yogg_saron_empowering_shadows\u001b[0m\n",
      "\n",
      "\u001b[31mclass spell_yogg_saron_in_the_maws_of_the_old_god : public SpellScriptLoader\u001b[0m\n",
      "\n",
      "\u001b[32mspell_yogg_saron_in_the_maws_of_the_old_god\u001b[0m\n",
      "\n",
      "\u001b[31mclass spell_yogg_saron_target_selectors : public SpellScriptLoader\u001b[0m\n",
      "\n",
      "\u001b[32mspell_yogg_saron_target_selectors\u001b[0m\n",
      "\n",
      "\u001b[31mclass spell_yogg_saron_grim_reprisal : public SpellScriptLoader\u001b[0m\n",
      "\n",
      "\u001b[32mspell_yogg_saron_grim_reprisal\u001b[0m\n",
      "\n",
      "\u001b[32machievement_yogg_saron_drive_me_crazy\u001b[0m\n",
      "\n",
      "\u001b[34mbreaks on line: 2954\n",
      "the end\u001b[0m\n",
      "\n"
     ]
    }
   ],
   "source": [
    "i = OFFSET\n",
    "blocks = []\n",
    "spellstrings = []\n",
    "count = 0\n",
    "while count<20: # prevent infinite loot\n",
    "    try:\n",
    "        out, spellstring, relative = convert_function_block(skip=i)\n",
    "        i += relative\n",
    "        blocks.append(out)\n",
    "        spellstrings.append(spellstring)\n",
    "        count += 1\n",
    "    except:\n",
    "        print(colored(f\"breaks on line: {i}\\nthe end\", Color.BLUE))\n",
    "        break;\n"
   ]
  },
  {
   "cell_type": "code",
   "execution_count": 12,
   "metadata": {},
   "outputs": [],
   "source": [
    "with open('formatted.txt', 'w') as f:\n",
    "    f.write('\\n'.join(blocks) + '\\n\\n\\n' + '\\n'.join(spellstrings))"
   ]
  }
 ],
 "metadata": {
  "kernelspec": {
   "display_name": "Python 3",
   "language": "python",
   "name": "python3"
  },
  "language_info": {
   "codemirror_mode": {
    "name": "ipython",
    "version": 3
   },
   "file_extension": ".py",
   "mimetype": "text/x-python",
   "name": "python",
   "nbconvert_exporter": "python",
   "pygments_lexer": "ipython3",
   "version": "3.11.8"
  }
 },
 "nbformat": 4,
 "nbformat_minor": 2
}
